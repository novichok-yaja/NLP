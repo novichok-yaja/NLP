{
 "cells": [
  {
   "cell_type": "code",
   "execution_count": 1,
   "id": "45141364",
   "metadata": {},
   "outputs": [],
   "source": [
    "# import libraries\n",
    "import nltk\n",
    "from nltk.stem import WordNetLemmatizer\n",
    "from nltk.corpus import stopwords"
   ]
  },
  {
   "cell_type": "code",
   "execution_count": 2,
   "id": "516fbe69",
   "metadata": {},
   "outputs": [],
   "source": [
    "paragraph = '''It started before I was born. My biological mother was a young, unwed college graduate student, and she decided \n",
    "               to put me up for adoption. She felt very strongly that I should be adopted by college graduates, so everything \n",
    "               was all set for me to be adopted at birth by a lawyer and his wife. Except that when I popped out they decided \n",
    "               at the last minute that they really wanted a girl. So my parents, who were on a waiting list, got a call in the \n",
    "               middle of the night asking: “We have an unexpected baby boy; do you want him?” They said: “Of course.” My \n",
    "               biological mother later found out that my mother had never graduated from college and that my father had never \n",
    "               graduated from high school. She refused to sign the final adoption papers.She only relented a few months later \n",
    "               when my parents promised that I would someday go to college.'''"
   ]
  },
  {
   "cell_type": "code",
   "execution_count": 3,
   "id": "341305a9",
   "metadata": {},
   "outputs": [],
   "source": [
    "# Tokenizing sentences\n",
    "sentences = nltk.sent_tokenize(paragraph)"
   ]
  },
  {
   "cell_type": "code",
   "execution_count": 4,
   "id": "1e65714e",
   "metadata": {},
   "outputs": [
    {
     "data": {
      "text/plain": [
       "['It started before I was born.',\n",
       " 'My biological mother was a young, unwed college graduate student, and she decided \\n               to put me up for adoption.',\n",
       " 'She felt very strongly that I should be adopted by college graduates, so everything \\n               was all set for me to be adopted at birth by a lawyer and his wife.',\n",
       " 'Except that when I popped out they decided \\n               at the last minute that they really wanted a girl.',\n",
       " 'So my parents, who were on a waiting list, got a call in the \\n               middle of the night asking: “We have an unexpected baby boy; do you want him?” They said: “Of course.” My \\n               biological mother later found out that my mother had never graduated from college and that my father had never \\n               graduated from high school.',\n",
       " 'She refused to sign the final adoption papers.She only relented a few months later \\n               when my parents promised that I would someday go to college.']"
      ]
     },
     "execution_count": 4,
     "metadata": {},
     "output_type": "execute_result"
    }
   ],
   "source": [
    "# Return all the sentences present in the paragraph\n",
    "sentences"
   ]
  },
  {
   "cell_type": "markdown",
   "id": "4733b9e8",
   "metadata": {},
   "source": [
    "## LEMMATIZATION"
   ]
  },
  {
   "cell_type": "markdown",
   "id": "b8727b43",
   "metadata": {},
   "source": [
    "Lemmatization is the process of grouping together the inflected forms of a word so they can be analysed as a single item, identified by the word's lemma, or dictionary form. Lemmatization is preferred over Stemming because lemmatization does morphological analysis of the words."
   ]
  },
  {
   "cell_type": "markdown",
   "id": "eec26be6",
   "metadata": {},
   "source": [
    "Lemmatization is closely related to stemming. The difference is that a stemmer operates on a single word without knowledge of the context, and therefore cannot discriminate between words which have different meanings depending on part of speech."
   ]
  },
  {
   "cell_type": "markdown",
   "id": "19a23943",
   "metadata": {},
   "source": [
    "Examples:\n",
    "- The word \"better\" has \"good\" as its lemma. This link is missed by stemming, as it requires a dictionary look-up.\n",
    "- The word \"walk\" is the base form for the word \"walking\", and hence this is matched in both stemming and lemmatization.\n",
    "- The word \"meeting\" can be either the base form of a noun or a form of a verb (\"to meet\") depending on the context; e.g., \"in     our last meeting\" or \"We are meeting again tomorrow\". Unlike stemming, lemmatization attempts to select the correct lemma       depending on the context."
   ]
  },
  {
   "cell_type": "code",
   "execution_count": 5,
   "id": "d5e0f71c",
   "metadata": {},
   "outputs": [],
   "source": [
    "lemmatizer = WordNetLemmatizer()"
   ]
  },
  {
   "cell_type": "code",
   "execution_count": 6,
   "id": "1582137c",
   "metadata": {},
   "outputs": [
    {
     "name": "stdout",
     "output_type": "stream",
     "text": [
      "['It', 'started', 'before', 'I', 'was', 'born', '.']\n",
      "['It', 'started', 'I', 'born', '.']\n",
      "['My', 'biological', 'mother', 'was', 'a', 'young', ',', 'unwed', 'college', 'graduate', 'student', ',', 'and', 'she', 'decided', 'to', 'put', 'me', 'up', 'for', 'adoption', '.']\n",
      "['My', 'biological', 'mother', 'young', ',', 'unwed', 'college', 'graduate', 'student', ',', 'decided', 'put', 'adoption', '.']\n",
      "['She', 'felt', 'very', 'strongly', 'that', 'I', 'should', 'be', 'adopted', 'by', 'college', 'graduates', ',', 'so', 'everything', 'was', 'all', 'set', 'for', 'me', 'to', 'be', 'adopted', 'at', 'birth', 'by', 'a', 'lawyer', 'and', 'his', 'wife', '.']\n",
      "['She', 'felt', 'strongly', 'I', 'adopted', 'college', 'graduate', ',', 'everything', 'set', 'adopted', 'birth', 'lawyer', 'wife', '.']\n",
      "['Except', 'that', 'when', 'I', 'popped', 'out', 'they', 'decided', 'at', 'the', 'last', 'minute', 'that', 'they', 'really', 'wanted', 'a', 'girl', '.']\n",
      "['Except', 'I', 'popped', 'decided', 'last', 'minute', 'really', 'wanted', 'girl', '.']\n",
      "['So', 'my', 'parents', ',', 'who', 'were', 'on', 'a', 'waiting', 'list', ',', 'got', 'a', 'call', 'in', 'the', 'middle', 'of', 'the', 'night', 'asking', ':', '“', 'We', 'have', 'an', 'unexpected', 'baby', 'boy', ';', 'do', 'you', 'want', 'him', '?', '”', 'They', 'said', ':', '“', 'Of', 'course.', '”', 'My', 'biological', 'mother', 'later', 'found', 'out', 'that', 'my', 'mother', 'had', 'never', 'graduated', 'from', 'college', 'and', 'that', 'my', 'father', 'had', 'never', 'graduated', 'from', 'high', 'school', '.']\n",
      "['So', 'parent', ',', 'waiting', 'list', ',', 'got', 'call', 'middle', 'night', 'asking', ':', '“', 'We', 'unexpected', 'baby', 'boy', ';', 'want', '?', '”', 'They', 'said', ':', '“', 'Of', 'course.', '”', 'My', 'biological', 'mother', 'later', 'found', 'mother', 'never', 'graduated', 'college', 'father', 'never', 'graduated', 'high', 'school', '.']\n",
      "['She', 'refused', 'to', 'sign', 'the', 'final', 'adoption', 'papers.She', 'only', 'relented', 'a', 'few', 'months', 'later', 'when', 'my', 'parents', 'promised', 'that', 'I', 'would', 'someday', 'go', 'to', 'college', '.']\n",
      "['She', 'refused', 'sign', 'final', 'adoption', 'papers.She', 'relented', 'month', 'later', 'parent', 'promised', 'I', 'would', 'someday', 'go', 'college', '.']\n"
     ]
    }
   ],
   "source": [
    "# Apply lemmatization and remove stop words\n",
    "for i in range(len(sentences)):\n",
    "    words = nltk.word_tokenize(sentences[i])\n",
    "    print(words)\n",
    "    words_after_lemmatization = [lemmatizer.lemmatize(word) for word in words if word not in set(stopwords.words('english'))]\n",
    "    print(words_after_lemmatization)\n",
    "    sentences[i] = ' '.join(words)      "
   ]
  },
  {
   "cell_type": "code",
   "execution_count": null,
   "id": "606abb72",
   "metadata": {},
   "outputs": [],
   "source": []
  }
 ],
 "metadata": {
  "kernelspec": {
   "display_name": "Python 3",
   "language": "python",
   "name": "python3"
  },
  "language_info": {
   "codemirror_mode": {
    "name": "ipython",
    "version": 3
   },
   "file_extension": ".py",
   "mimetype": "text/x-python",
   "name": "python",
   "nbconvert_exporter": "python",
   "pygments_lexer": "ipython3",
   "version": "3.8.8"
  }
 },
 "nbformat": 4,
 "nbformat_minor": 5
}
