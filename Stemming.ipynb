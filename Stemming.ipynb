{
 "cells": [
  {
   "cell_type": "code",
   "execution_count": 1,
   "id": "ecbf31dc",
   "metadata": {},
   "outputs": [],
   "source": [
    "#import libraries\n",
    "import nltk\n",
    "from nltk.stem import PorterStemmer\n",
    "from nltk.corpus import stopwords"
   ]
  },
  {
   "cell_type": "code",
   "execution_count": 2,
   "id": "be55179c",
   "metadata": {},
   "outputs": [],
   "source": [
    "paragraph = '''It started before I was born. My biological mother was a young, unwed college graduate student, and she decided \n",
    "               to put me up for adoption. She felt very strongly that I should be adopted by college graduates, so everything \n",
    "               was all set for me to be adopted at birth by a lawyer and his wife. Except that when I popped out they decided \n",
    "               at the last minute that they really wanted a girl. So my parents, who were on a waiting list, got a call in the \n",
    "               middle of the night asking: “We have an unexpected baby boy; do you want him?” They said: “Of course.” My \n",
    "               biological mother later found out that my mother had never graduated from college and that my father had never \n",
    "               graduated from high school. She refused to sign the final adoption papers.She only relented a few months later \n",
    "               when my parents promised that I would someday go to college.'''"
   ]
  },
  {
   "cell_type": "code",
   "execution_count": 3,
   "id": "d46ba8ce",
   "metadata": {},
   "outputs": [],
   "source": [
    "# Tokenizing sentences\n",
    "sentences = nltk.sent_tokenize(paragraph)"
   ]
  },
  {
   "cell_type": "code",
   "execution_count": 4,
   "id": "b37f6c85",
   "metadata": {},
   "outputs": [
    {
     "data": {
      "text/plain": [
       "['It started before I was born.',\n",
       " 'My biological mother was a young, unwed college graduate student, and she decided \\n               to put me up for adoption.',\n",
       " 'She felt very strongly that I should be adopted by college graduates, so everything \\n               was all set for me to be adopted at birth by a lawyer and his wife.',\n",
       " 'Except that when I popped out they decided \\n               at the last minute that they really wanted a girl.',\n",
       " 'So my parents, who were on a waiting list, got a call in the \\n               middle of the night asking: “We have an unexpected baby boy; do you want him?” They said: “Of course.” My \\n               biological mother later found out that my mother had never graduated from college and that my father had never \\n               graduated from high school.',\n",
       " 'She refused to sign the final adoption papers.She only relented a few months later \\n               when my parents promised that I would someday go to college.']"
      ]
     },
     "execution_count": 4,
     "metadata": {},
     "output_type": "execute_result"
    }
   ],
   "source": [
    "sentences"
   ]
  },
  {
   "cell_type": "markdown",
   "id": "65089dc1",
   "metadata": {},
   "source": [
    "## STEMMING"
   ]
  },
  {
   "cell_type": "markdown",
   "id": "0a5b1c60",
   "metadata": {},
   "source": [
    "Stemming is the process of producing morphological variants of a root/base word. A stemming algorithm reduces the words “chocolates”, “chocolatey”, “choco” to the root word, “chocolate” and “retrieval”, “retrieved”, “retrieves” reduce to the stem “retrieve”. The input to the stemmer is tokenized words. "
   ]
  },
  {
   "cell_type": "markdown",
   "id": "5c86be78",
   "metadata": {},
   "source": [
    "### Errors in Stemming:"
   ]
  },
  {
   "cell_type": "markdown",
   "id": "9ef81a7b",
   "metadata": {},
   "source": [
    "- **Over-stemming**: Over-stemming occurs when two words are stemmed from the same root that are of different stems. Over-                            stemming can also be regarded as false-positives. \n",
    "- **Under-stemming**: Under-stemming occurs when two words are stemmed from the same root that are not of different stems.                             Under-stemming can be interpreted as false-negatives. "
   ]
  },
  {
   "cell_type": "markdown",
   "id": "e25cd88b",
   "metadata": {},
   "source": [
    "### Applications of stemming : "
   ]
  },
  {
   "cell_type": "markdown",
   "id": "d60e2dfa",
   "metadata": {},
   "source": [
    "- Stemming is used in information retrieval systems like search engines.\n",
    "- It is used to determine domain vocabularies in domain analysis."
   ]
  },
  {
   "cell_type": "code",
   "execution_count": 5,
   "id": "2e672a7c",
   "metadata": {},
   "outputs": [],
   "source": [
    "stemmer = PorterStemmer()"
   ]
  },
  {
   "cell_type": "code",
   "execution_count": 6,
   "id": "b2d49d77",
   "metadata": {},
   "outputs": [
    {
     "name": "stdout",
     "output_type": "stream",
     "text": [
      "['It', 'started', 'before', 'I', 'was', 'born', '.']\n",
      "['it', 'start', 'i', 'born', '.']\n",
      "['My', 'biological', 'mother', 'was', 'a', 'young', ',', 'unwed', 'college', 'graduate', 'student', ',', 'and', 'she', 'decided', 'to', 'put', 'me', 'up', 'for', 'adoption', '.']\n",
      "['my', 'biolog', 'mother', 'young', ',', 'unw', 'colleg', 'graduat', 'student', ',', 'decid', 'put', 'adopt', '.']\n",
      "['She', 'felt', 'very', 'strongly', 'that', 'I', 'should', 'be', 'adopted', 'by', 'college', 'graduates', ',', 'so', 'everything', 'was', 'all', 'set', 'for', 'me', 'to', 'be', 'adopted', 'at', 'birth', 'by', 'a', 'lawyer', 'and', 'his', 'wife', '.']\n",
      "['she', 'felt', 'strongli', 'i', 'adopt', 'colleg', 'graduat', ',', 'everyth', 'set', 'adopt', 'birth', 'lawyer', 'wife', '.']\n",
      "['Except', 'that', 'when', 'I', 'popped', 'out', 'they', 'decided', 'at', 'the', 'last', 'minute', 'that', 'they', 'really', 'wanted', 'a', 'girl', '.']\n",
      "['except', 'i', 'pop', 'decid', 'last', 'minut', 'realli', 'want', 'girl', '.']\n",
      "['So', 'my', 'parents', ',', 'who', 'were', 'on', 'a', 'waiting', 'list', ',', 'got', 'a', 'call', 'in', 'the', 'middle', 'of', 'the', 'night', 'asking', ':', '“', 'We', 'have', 'an', 'unexpected', 'baby', 'boy', ';', 'do', 'you', 'want', 'him', '?', '”', 'They', 'said', ':', '“', 'Of', 'course.', '”', 'My', 'biological', 'mother', 'later', 'found', 'out', 'that', 'my', 'mother', 'had', 'never', 'graduated', 'from', 'college', 'and', 'that', 'my', 'father', 'had', 'never', 'graduated', 'from', 'high', 'school', '.']\n",
      "['so', 'parent', ',', 'wait', 'list', ',', 'got', 'call', 'middl', 'night', 'ask', ':', '“', 'we', 'unexpect', 'babi', 'boy', ';', 'want', '?', '”', 'they', 'said', ':', '“', 'of', 'course.', '”', 'my', 'biolog', 'mother', 'later', 'found', 'mother', 'never', 'graduat', 'colleg', 'father', 'never', 'graduat', 'high', 'school', '.']\n",
      "['She', 'refused', 'to', 'sign', 'the', 'final', 'adoption', 'papers.She', 'only', 'relented', 'a', 'few', 'months', 'later', 'when', 'my', 'parents', 'promised', 'that', 'I', 'would', 'someday', 'go', 'to', 'college', '.']\n",
      "['she', 'refus', 'sign', 'final', 'adopt', 'papers.sh', 'relent', 'month', 'later', 'parent', 'promis', 'i', 'would', 'someday', 'go', 'colleg', '.']\n"
     ]
    }
   ],
   "source": [
    "# Apply Stemming and remove stop words\n",
    "for i in range(len(sentences)):\n",
    "    words = nltk.word_tokenize(sentences[i])\n",
    "    print(words)\n",
    "    words_after_stemming = [stemmer.stem(word) for word in words if word not in set(stopwords.words('english'))]\n",
    "    print(words_after_stemming) \n",
    "    sentences[i] = ' '.join(words_after_stemming)"
   ]
  },
  {
   "cell_type": "code",
   "execution_count": 7,
   "id": "f3c56f2a",
   "metadata": {},
   "outputs": [
    {
     "data": {
      "text/plain": [
       "['it start i born .',\n",
       " 'my biolog mother young , unw colleg graduat student , decid put adopt .',\n",
       " 'she felt strongli i adopt colleg graduat , everyth set adopt birth lawyer wife .',\n",
       " 'except i pop decid last minut realli want girl .',\n",
       " 'so parent , wait list , got call middl night ask : “ we unexpect babi boy ; want ? ” they said : “ of course. ” my biolog mother later found mother never graduat colleg father never graduat high school .',\n",
       " 'she refus sign final adopt papers.sh relent month later parent promis i would someday go colleg .']"
      ]
     },
     "execution_count": 7,
     "metadata": {},
     "output_type": "execute_result"
    }
   ],
   "source": [
    "# Sentences after stemming and removing stop words\n",
    "sentences"
   ]
  },
  {
   "cell_type": "code",
   "execution_count": null,
   "id": "11121b04",
   "metadata": {},
   "outputs": [],
   "source": [
    "**Problem with Stemming**\n",
    "Produced intermediate representaion of words may not have any actual meaning.\n",
    "Example: realli, intelligen, fina etc"
   ]
  },
  {
   "cell_type": "code",
   "execution_count": null,
   "id": "5a3b1ffa",
   "metadata": {},
   "outputs": [],
   "source": []
  }
 ],
 "metadata": {
  "kernelspec": {
   "display_name": "Python 3",
   "language": "python",
   "name": "python3"
  },
  "language_info": {
   "codemirror_mode": {
    "name": "ipython",
    "version": 3
   },
   "file_extension": ".py",
   "mimetype": "text/x-python",
   "name": "python",
   "nbconvert_exporter": "python",
   "pygments_lexer": "ipython3",
   "version": "3.8.8"
  }
 },
 "nbformat": 4,
 "nbformat_minor": 5
}
